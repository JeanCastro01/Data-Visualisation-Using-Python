{
 "cells": [
  {
   "cell_type": "code",
   "execution_count": null,
   "id": "0dc14260",
   "metadata": {},
   "outputs": [],
   "source": [
    "import numpy as np\n",
    "import pandas as pd\n",
    "import matplotlib as mpl\n",
    "import matplotlib.pyplot as plt\n",
    "from __future__ import print_function #adds compatibility with new versions of Python\n",
    "%matplotlib inline \n",
    "\n"
   ]
  },
  {
   "cell_type": "code",
   "execution_count": null,
   "id": "4cdac4ee",
   "metadata": {},
   "outputs": [],
   "source": [
    "dataset = pd.read_excel('C:/Users/miant/Desktop/Python/Canada.xlsx', \n",
    "                       sheet_name = \"Canada by Citizenship\",\n",
    "                       skipfooter = 2,\n",
    "                       skiprows = range(20))\n",
    "dataset.head(5)"
   ]
  },
  {
   "cell_type": "code",
   "execution_count": null,
   "id": "e0a81a6e",
   "metadata": {},
   "outputs": [],
   "source": [
    "dataset.drop(['AREA','REG','DEV'], axis=1, inplace=True)\n",
    "dataset.head()"
   ]
  },
  {
   "cell_type": "code",
   "execution_count": null,
   "id": "59096cd7",
   "metadata": {},
   "outputs": [],
   "source": [
    "dataset['Total'] = dataset.sum(axis=1)\n",
    "dataset.head()"
   ]
  },
  {
   "cell_type": "code",
   "execution_count": null,
   "id": "2077eef4",
   "metadata": {},
   "outputs": [],
   "source": [
    "dataset.set_index('OdName', inplace=True)"
   ]
  },
  {
   "cell_type": "code",
   "execution_count": null,
   "id": "33ddfcef",
   "metadata": {},
   "outputs": [],
   "source": [
    "#Checking a particular row\n",
    "print(dataset.loc['Haiti'])"
   ]
  },
  {
   "cell_type": "code",
   "execution_count": null,
   "id": "de9c875f",
   "metadata": {},
   "outputs": [],
   "source": [
    "#Checking a particular year and a particular row\n",
    "\n",
    "print(dataset.loc['Haiti', 2013])"
   ]
  },
  {
   "cell_type": "code",
   "execution_count": null,
   "id": "5b2e6769",
   "metadata": {},
   "outputs": [],
   "source": [
    "#Converting the years to string\n",
    "dataset.columns = list(map(str, dataset.columns))\n",
    "[print (type(x)) for x in dataset.columns.values] "
   ]
  },
  {
   "cell_type": "code",
   "execution_count": null,
   "id": "98516370",
   "metadata": {},
   "outputs": [],
   "source": [
    "#LINE PLOT - IMMIGRATION FROM HAITI\n",
    "\n",
    "#Creating the range of years\n",
    "years = list (map(str, range(1980, 2014))) \n",
    "\n",
    "dataset.loc['Haiti', years].plot(kind = 'line', color = 'red')\n",
    "plt.title('Immigrants from Haiti')\n",
    "plt.ylabel('Number of immigrants')\n",
    "plt.xlabel('Years')\n"
   ]
  },
  {
   "cell_type": "code",
   "execution_count": null,
   "id": "f3361da1",
   "metadata": {},
   "outputs": [],
   "source": [
    "#ADD TEXT TO EXPLAIN THE SPIKE\n",
    "\n",
    "years = list (map(str, range(1980, 2014))) \n",
    "\n",
    "dataset.loc['Haiti', years].plot(kind = 'line', color = 'red')\n",
    "plt.title('Immigrants from Haiti')\n",
    "plt.ylabel('Number of immigrants')\n",
    "plt.xlabel('Years')\n",
    "\n",
    "plt.text(20, 6000, '2010 Earthquake')"
   ]
  },
  {
   "cell_type": "code",
   "execution_count": null,
   "id": "ad7a1216",
   "metadata": {},
   "outputs": [],
   "source": [
    "dataset.loc['Haiti', years].plot(kind = 'line', color = 'red')\n",
    "dataset.loc['Argentina', years].plot(kind = 'line', color = 'blue')\n",
    "plt.title('Immigrants from Haiti vs Argentina')\n",
    "plt.ylabel('Number of immigrants')\n",
    "plt.xlabel('Years')\n",
    "plt.legend(['Haiti', 'Argentina'])"
   ]
  },
  {
   "cell_type": "code",
   "execution_count": null,
   "id": "d4138fff",
   "metadata": {},
   "outputs": [],
   "source": [
    "#PIE CHART\n",
    "\n",
    "data_continents = dataset.groupby('AreaName', axis = 0).sum()\n",
    "\n",
    "\n",
    "data_continents['Total'].plot(kind='pie')\n",
    "\n",
    "\n",
    "plt.title('Immigration by Areas [1980-2013]')\n",
    "plt.tight_layout()"
   ]
  },
  {
   "cell_type": "code",
   "execution_count": null,
   "id": "be54a84b",
   "metadata": {},
   "outputs": [],
   "source": [
    "#PIE CHART\n",
    "\n",
    "data_continents = dataset.groupby('AreaName', axis = 0).sum()\n",
    "\n",
    "data_continents['Total'].plot(kind='pie', radius=1.2, autopct='%1.1f%%')\n",
    "\n",
    "plt.title('Immigration by Areas [1980-2013]', fontsize = 12)\n",
    "plt.tight_layout()"
   ]
  },
  {
   "cell_type": "code",
   "execution_count": null,
   "id": "5bebcc48",
   "metadata": {},
   "outputs": [],
   "source": [
    "#PIE CHART\n",
    "#Explode a slice\n",
    "data_continents = dataset.groupby('AreaName', axis = 0).sum()\n",
    "data_continents\n"
   ]
  },
  {
   "cell_type": "code",
   "execution_count": null,
   "id": "35a5fe61",
   "metadata": {},
   "outputs": [],
   "source": [
    "#PIE CHART\n",
    "#Explode a slice\n",
    "\n",
    "data_continents = dataset.groupby('AreaName', axis = 0).sum()\n",
    "explode = (0.3, 0, 0, 0, 0, 0)\n",
    "data_continents['Total'].plot(kind='pie', radius=1.2, autopct='%1.1f%%', explode = explode, shadow = True)\n",
    "\n",
    "plt.title('Immigration by Areas [1980-2013]')\n",
    "plt.tight_layout()"
   ]
  },
  {
   "cell_type": "code",
   "execution_count": null,
   "id": "fbe20027",
   "metadata": {},
   "outputs": [],
   "source": [
    "#PIE CHART\n",
    "#Explode a slice\n",
    "\n",
    "data_continents = dataset.groupby('AreaName', axis = 0).sum()\n",
    "explode = (0.2, 0, 0.2, 0, 0, 0)\n",
    "data_continents['Total'].plot(kind='pie', radius=1.2, autopct='%1.1f%%', explode = explode, shadow = True)\n",
    "\n",
    "plt.title('Immigration by Areas [1980-2013]')\n",
    "plt.tight_layout()"
   ]
  },
  {
   "cell_type": "code",
   "execution_count": null,
   "id": "0e27b8b0",
   "metadata": {},
   "outputs": [],
   "source": [
    "#AREA PLOTS\n",
    "#We sort the values from the largest to the smallest\n",
    "\n",
    "dataset.sort_values(['Total'], ascending = False, axis = 0, inplace = True)\n",
    "dataset.head()"
   ]
  },
  {
   "cell_type": "code",
   "execution_count": null,
   "id": "ea87d06f",
   "metadata": {},
   "outputs": [],
   "source": [
    "#We select the top 5 countries to create the area plot\n",
    "top5 = dataset[years].head(5).transpose()\n",
    "top5.head(10)"
   ]
  },
  {
   "cell_type": "code",
   "execution_count": null,
   "id": "5fe6bee4",
   "metadata": {
    "scrolled": true
   },
   "outputs": [],
   "source": [
    "top5.plot(kind='area', \n",
    "             alpha=0.25, # 0-1, default value a= 0.5\n",
    "             figsize=(20, 10),)\n",
    "\n",
    "plt.title('Immigration Trend of Top 5 Countries', size=18)\n",
    "plt.ylabel('Number of Immigrants', size=15)\n",
    "plt.xlabel('Years',size=15)\n"
   ]
  },
  {
   "cell_type": "code",
   "execution_count": null,
   "id": "090e595b",
   "metadata": {
    "scrolled": true
   },
   "outputs": [],
   "source": [
    "#HORIZONTAL BAR CHART TO COMPARE IMMIGRATION - TOP 5\n",
    "\n",
    "# Extract data from India and China (Top2)\n",
    "data_CI = dataset.loc[['India','China'], years].transpose()\n",
    "data_CI.reset_index(inplace=True)\n",
    "data_CI.rename(columns={'index':'Year'},inplace=True)\n",
    "data_CI.head()"
   ]
  },
  {
   "cell_type": "code",
   "execution_count": null,
   "id": "4ab78aa1",
   "metadata": {},
   "outputs": [],
   "source": [
    "ax0= data_CI.plot(kind='barh',  x='Year',figsize=(15, 10))\n",
    "\n",
    "ax0.set_xlabel('Year', fontsize=12)\n",
    "ax0.set_ylabel('Number of Immigrants India vs China',fontsize=12)\n",
    "ax0.set_title('Immigration from top 2 countries between 1980 and 2013', fontsize=18)"
   ]
  },
  {
   "cell_type": "code",
   "execution_count": null,
   "id": "de286f76",
   "metadata": {},
   "outputs": [],
   "source": [
    "#India bar chart\n",
    "\n",
    "india = dataset.loc['India',years]\n",
    "\n",
    "india.plot(kind='bar',figsize=(10,6), color='pink')\n",
    "plt.xlabel('Years', fontsize = 12)\n",
    "plt.ylabel('Number of Immigrants', fontsize = 12)\n",
    "plt.title('Immigration from India', fontsize = 15)"
   ]
  },
  {
   "cell_type": "code",
   "execution_count": null,
   "id": "d8b1d6f6",
   "metadata": {},
   "outputs": [],
   "source": [
    "#HISTOGRAM\n",
    "\n",
    "dataset['2013'].plot(kind = 'hist', color = 'green')\n",
    "\n",
    "\n",
    "plt.title('Immigration in 2013')\n",
    "plt.ylabel('Number of Countries')\n",
    "plt.xlabel('Number of Immigrants')\n",
    "\n"
   ]
  },
  {
   "cell_type": "code",
   "execution_count": null,
   "id": "90f4e900",
   "metadata": {},
   "outputs": [],
   "source": [
    "#COMPARING TWO DIFFERENT PLOTS (SUBPLOTS)\n",
    "\n",
    "plt.subplot(1, 2, 1)\n",
    "dataset['2008'].plot(kind = 'hist', color = 'green')\n",
    "plt.title('Immigration in 2008')\n",
    "plt.ylabel('Number of Countries')\n",
    "plt.xlabel('Number of Immigrants')\n",
    "\n",
    "plt.subplot(1, 2, 2)\n",
    "dataset['2010'].plot(kind = 'hist', color = 'green')\n",
    "plt.title('Immigration in 2010')\n",
    "plt.ylabel('Number of Countries')\n",
    "plt.xlabel('Number of Immigrants')\n",
    "\n",
    "plt.tight_layout(pad = 3.0)"
   ]
  },
  {
   "cell_type": "code",
   "execution_count": null,
   "id": "288e85e7",
   "metadata": {},
   "outputs": [],
   "source": [
    "#BOX PLOT\n",
    "\n",
    "japan = dataset.loc[['Japan'], years].transpose()\n",
    "japan.plot(kind = 'box')\n",
    "\n",
    "plt.title('Immigration from Japan 1980-2013')\n",
    "plt.ylabel('Number of immigrants')"
   ]
  },
  {
   "cell_type": "code",
   "execution_count": null,
   "id": "edce1aa3",
   "metadata": {},
   "outputs": [],
   "source": [
    "#MULTIPLE BOX PLOTS\n",
    "\n",
    "fig = plt.figure(1, figsize=(12,8))\n",
    "\n",
    "JB = dataset.loc[['Japan', 'Brazil'], years].transpose()\n",
    "\n",
    "box = plt.boxplot(JB, patch_artist=True)\n",
    "\n",
    "# fill with colors\n",
    "colors = ['green','blue']\n",
    "\n",
    "for patch, color in zip(box['boxes'], colors):\n",
    "    patch.set_facecolor(color)     \n",
    "          \n",
    "plt.title('Immigration Japan vs Brazil', size=18)\n",
    "plt.ylabel('Number of Immigrants', size=12)\n",
    "plt.xlabel('Countries', size=12)\n",
    "plt.xticks([1, 2], ['Japan','Brazil'])\n",
    "plt.show()"
   ]
  },
  {
   "cell_type": "code",
   "execution_count": null,
   "id": "8e6c01b7",
   "metadata": {},
   "outputs": [],
   "source": [
    "#SCATTER PLOT\n",
    "\n",
    "#we need to create a table\n",
    "\n",
    "data_total = pd.DataFrame(dataset[years].sum())\n",
    "\n",
    "#reset index\n",
    "data_total.reset_index(inplace=True)\n",
    "\n",
    "#rename columns\n",
    "data_total.columns = ['Year', 'Total']\n",
    "\n",
    "data_total.head()"
   ]
  },
  {
   "cell_type": "code",
   "execution_count": null,
   "id": "48061719",
   "metadata": {},
   "outputs": [],
   "source": [
    "data_total.plot(kind='scatter', x='Year', y='Total', figsize=(10, 6), color = 'red')\n",
    "plt.xlabel('Year', fontsize = 12)\n",
    "plt.ylabel('Number of Immigrants', fontsize = 12)\n",
    "plt.title('Total Immigration between 1980-2013', fontsize = 15)\n",
    "plt.xticks(rotation=90)\n",
    "plt.yticks(rotation=0)\n"
   ]
  },
  {
   "cell_type": "code",
   "execution_count": null,
   "id": "e632474c",
   "metadata": {},
   "outputs": [],
   "source": [
    "#BUBBLE PLOT (COMPARING TWO COUNTRIES)\n",
    "top2 = dataset.loc[:,years].head(2)\n",
    "top2.head(5)"
   ]
  },
  {
   "cell_type": "code",
   "execution_count": null,
   "id": "4fb8afe0",
   "metadata": {},
   "outputs": [],
   "source": [
    "# Extract data from India and China (Top2)\n",
    "data_CI = dataset.loc[['India','China'], years].transpose()\n",
    "data_CI.reset_index(inplace=True)\n",
    "data_CI.rename(columns={'index':'Year'},inplace=True)\n",
    "data_CI.head()"
   ]
  },
  {
   "cell_type": "code",
   "execution_count": null,
   "id": "1b065e42",
   "metadata": {},
   "outputs": [],
   "source": [
    "#Plotting\n",
    "\n",
    "ax0= data_CI.plot(kind='scatter',\n",
    "             x='Year',\n",
    "             y='India',\n",
    "            figsize=(14, 8),\n",
    "           s=data_CI['India']/50, # size of the bubble\n",
    "           alpha=0.5, # transparency\n",
    "           c='violet')\n",
    "\n",
    "ax1= data_CI.plot(kind='scatter',\n",
    "             x='Year',\n",
    "             y='China',\n",
    "            figsize=(14, 8),\n",
    "           s=data_CI['China']/50,\n",
    "           alpha=0.5,\n",
    "           c='green',\n",
    "         ax = ax0)\n",
    "\n",
    "plt.xticks(rotation=90)\n",
    "\n",
    "ax0.set_xlabel('Year', fontsize=12)\n",
    "ax0.set_ylabel('Number of Immigrants', fontsize=12)\n",
    "ax0.set_title('Immigration India vs China from 1980 - 2013', fontsize=18)\n",
    "ax0.legend(['India', 'China'], loc='upper left', fontsize=12)"
   ]
  },
  {
   "cell_type": "code",
   "execution_count": null,
   "id": "ba3f11b9",
   "metadata": {},
   "outputs": [],
   "source": [
    "#PRACTICE TIME! CREATE A BARCHAR COMPARING INDIA AND CHINA"
   ]
  }
 ],
 "metadata": {
  "kernelspec": {
   "display_name": "Python 3",
   "language": "python",
   "name": "python3"
  },
  "language_info": {
   "codemirror_mode": {
    "name": "ipython",
    "version": 3
   },
   "file_extension": ".py",
   "mimetype": "text/x-python",
   "name": "python",
   "nbconvert_exporter": "python",
   "pygments_lexer": "ipython3",
   "version": "3.8.8"
  }
 },
 "nbformat": 4,
 "nbformat_minor": 5
}
